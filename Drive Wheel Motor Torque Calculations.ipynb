{
 "cells": [
  {
   "cell_type": "code",
   "execution_count": 2,
   "id": "cbef19cf-b15e-450b-ab55-d1e3468dcacd",
   "metadata": {},
   "outputs": [
    {
     "data": {
      "text/html": [
       "<style>\n",
       ".none { display:none; }\n",
       "</style>\n"
      ],
      "text/plain": [
       "<IPython.core.display.HTML object>"
      ]
     },
     "metadata": {},
     "output_type": "display_data"
    }
   ],
   "source": [
    "%%HTML\n",
    "<style>\n",
    ".none { display:none; }\n",
    "</style>"
   ]
  },
  {
   "cell_type": "markdown",
   "id": "840a6f34-33ec-4523-970b-f63560d500b3",
   "metadata": {
    "tags": []
   },
   "source": [
    "# Drive Wheel Motor Torque Calculations\n",
    "\n",
    "Determine whether the drive system wheels have enough surface traction to achieve the desired speed and acceleration for the robot weight and angle of incline.\n",
    "\n",
    "## Initialisations"
   ]
  },
  {
   "cell_type": "code",
   "execution_count": 3,
   "id": "93e05975-306e-4ec9-8b5f-5be470281efe",
   "metadata": {},
   "outputs": [],
   "source": [
    "from math import *\n",
    "import sympy as sp\n",
    "import numpy as np\n",
    "import matplotlib as mpl\n",
    "import matplotlib.pyplot as pl\n",
    "from matplotlib.ticker import FormatStrFormatter\n",
    "\n",
    "# initialise drive wheel torque parameters\n",
    "G_VW, N_DW, W_DW, R_W, V_max, t_a, a, C_rr, RF, u = \\\n",
    "sp.symbols(r\"G_VW, N_DW, W_DW, R_W, V_max, t_a, \\alpha, C_rr, RF, \\mu\")"
   ]
  },
  {
   "cell_type": "markdown",
   "id": "900286ab-2c0c-4edd-93d2-f16c8dfca9fd",
   "metadata": {},
   "source": [
    "## Force of Rolling Resistance\n",
    "\n",
    "Rolling Resistance Force is the tractive force produced by the motor which turns the wheels forward, pushing against the surface. We will use the worse surface type the vehicle is expected to encounter in order to calculate this.\n",
    "\n",
    "$${F_{RR} = G_{VW} \\cdot 9.81 \\cdot C_{rr}}$$\n",
    "\n",
    "$F_{RR} =$ Force of rolling resistance $(N)$\\\n",
    "$G_{VW} =$ Gross weight of vehicle $(kg)$\\\n",
    "$C_{rr} =$ Surface friction for worst surface: dry wood $(0.010)$"
   ]
  },
  {
   "cell_type": "markdown",
   "id": "3b7c123a-643d-4f9f-95f0-325b74728558",
   "metadata": {},
   "source": [
    "<div class=\"none\">\n",
    "\\newpage\n",
    "</div>"
   ]
  },
  {
   "cell_type": "markdown",
   "id": "b01020b3-a225-4098-9564-eb657425e08b",
   "metadata": {},
   "source": [
    "| **Contact Surface** | **$C_{rr}$** |\n",
    "| --- | --- |\n",
    "| Concrete (good / fair / poor) | 0.010 / 0.015 / 0.020  |\n",
    "| Asphalt (good / fair / poor)  | 0.012 / 0.017 / 0.022 |\n",
    "| Wood (dry / dusty / wet) | 0.010 / 0.005 / 0.001 |\n",
    "| Snow (2 inch / 4 inch) | 0.025 / 0.037  |\n",
    "| Dirt (smooth / sandy) | 0.025 / 0.037  |\n",
    "| Mud (firm / medium / soft)  | 0.037 / 0.090 / 0.150 |\n",
    "| Grass (firm / soft) | 0.055 / 0.075  |\n",
    "| Sand (firm / soft / dune) | 0.060 / 0.150 / 0.300 |"
   ]
  },
  {
   "cell_type": "code",
   "execution_count": 4,
   "id": "f6124512-c6f1-444c-8a22-bb1354d44226",
   "metadata": {},
   "outputs": [],
   "source": [
    "F_RR = sp.symbols(\"F_RR\", cls=sp.Function)"
   ]
  },
  {
   "cell_type": "code",
   "execution_count": 5,
   "id": "d7162aa6-8d00-46b0-b460-7ad23694b891",
   "metadata": {},
   "outputs": [
    {
     "data": {
      "text/latex": [
       "$\\displaystyle 9.81 C_{rr} G_{VW}$"
      ],
      "text/plain": [
       "9.81*C_rr*G_VW"
      ]
     },
     "execution_count": 5,
     "metadata": {},
     "output_type": "execute_result"
    }
   ],
   "source": [
    "F_RR = G_VW * 9.81 * C_rr\n",
    "F_RR"
   ]
  },
  {
   "cell_type": "code",
   "execution_count": 6,
   "id": "552cceb7-f227-4e28-be8a-27e286e49b71",
   "metadata": {},
   "outputs": [
    {
     "data": {
      "text/plain": [
       "<function _lambdifygenerated(G_VW, C_rr)>"
      ]
     },
     "execution_count": 6,
     "metadata": {},
     "output_type": "execute_result"
    }
   ],
   "source": [
    "# Convert F_RR into a numpy expression\n",
    "F_RR_f = sp.lambdify((G_VW, C_rr), F_RR)\n",
    "F_RR_f"
   ]
  },
  {
   "cell_type": "markdown",
   "id": "b5b87f6b-6a62-41e6-985d-fbcee63fd7a1",
   "metadata": {},
   "source": [
    "## Force of Climbing Incline\n",
    "\n",
    "Force of Grade Resistance is the Force required to move the vehicle up a desired incline. If vehicle is not required to climb an inclined surface, this value  becomes zero $(\\sin(0) = 0)$.\n",
    "\n",
    "$${F_{GR} = G_{VW} \\cdot 9.81 \\cdot \\sin(\\alpha)}$$\n",
    "\n",
    "$F_{GR} =$ Force required to climb an incline (N)\\\n",
    "$G_{VW} =$ Gross vehicle weight ($kg$)\\\n",
    "$\\alpha$ = maximum incline angle ($degrees$)"
   ]
  },
  {
   "cell_type": "code",
   "execution_count": 7,
   "id": "5e17490b-5084-498f-ba00-fb6658154949",
   "metadata": {},
   "outputs": [],
   "source": [
    "F_GR = sp.symbols(\"F_GR\", cls=sp.Function)"
   ]
  },
  {
   "cell_type": "code",
   "execution_count": 8,
   "id": "b43d76de-10b7-4f79-ab02-841be5a7ee37",
   "metadata": {},
   "outputs": [
    {
     "data": {
      "text/latex": [
       "$\\displaystyle 9.81 G_{VW} \\sin{\\left(\\frac{\\pi \\alpha}{180} \\right)}$"
      ],
      "text/plain": [
       "9.81*G_VW*sin(pi*\\alpha/180)"
      ]
     },
     "execution_count": 8,
     "metadata": {},
     "output_type": "execute_result"
    }
   ],
   "source": [
    "F_GR = G_VW * 9.81 * sp.sin(a * sp.pi/180)\n",
    "F_GR"
   ]
  },
  {
   "cell_type": "code",
   "execution_count": 9,
   "id": "fde3c93c-1f6f-4062-935b-7eaa714bf12d",
   "metadata": {},
   "outputs": [
    {
     "data": {
      "text/plain": [
       "<function _lambdifygenerated(G_VW, Dummy_23)>"
      ]
     },
     "execution_count": 9,
     "metadata": {},
     "output_type": "execute_result"
    }
   ],
   "source": [
    "# Convert F_GR into a numpy expression\n",
    "F_GR_f = sp.lambdify((G_VW, a), F_GR)\n",
    "F_GR_f"
   ]
  },
  {
   "cell_type": "markdown",
   "id": "ab3b75d5-9a1a-4f25-aa83-216eca4ce111",
   "metadata": {},
   "source": [
    "## Force of Acceleration\n",
    "\n",
    "Force required to accelerate vehicle from stationary position to maximum velocity in the required time. This Force does not depend on incline of surface.\n",
    "\n",
    "$${F_{A} = \\frac{G_{VW} \\cdot V_{max}}{t_{a}}}$$\n",
    "\n",
    "$F_{A} =$ Force required for acceleration $(N)$\\\n",
    "$G_{VW} =$ Gross vehicle weight $(kg)$\\\n",
    "$V_{max} =$ Maximum speed $(m/s)$\\\n",
    "$t_{a} =$ Time required for maximum speed $(s)$"
   ]
  },
  {
   "cell_type": "code",
   "execution_count": 10,
   "id": "6bfe8a01-82db-4bc2-b3d9-ff9a958593ed",
   "metadata": {},
   "outputs": [],
   "source": [
    "F_A = sp.symbols(\"F_A\", cls=sp.Function)"
   ]
  },
  {
   "cell_type": "code",
   "execution_count": 11,
   "id": "a98aee62-3a62-4051-a82e-fd727290d961",
   "metadata": {},
   "outputs": [
    {
     "data": {
      "text/latex": [
       "$\\displaystyle \\frac{G_{VW} V_{max}}{t_{a}}$"
      ],
      "text/plain": [
       "G_VW*V_max/t_a"
      ]
     },
     "execution_count": 11,
     "metadata": {},
     "output_type": "execute_result"
    }
   ],
   "source": [
    "F_A = G_VW * V_max / t_a\n",
    "F_A"
   ]
  },
  {
   "cell_type": "code",
   "execution_count": 12,
   "id": "0cac1fb7-c731-400a-88ba-52516446793f",
   "metadata": {},
   "outputs": [
    {
     "data": {
      "text/plain": [
       "<function _lambdifygenerated(G_VW, V_max, t_a)>"
      ]
     },
     "execution_count": 12,
     "metadata": {},
     "output_type": "execute_result"
    }
   ],
   "source": [
    "F_A_f = sp.lambdify((G_VW, V_max, t_a), F_A)\n",
    "F_A_f"
   ]
  },
  {
   "cell_type": "markdown",
   "id": "32660f95-b6c3-4e46-a826-52e83e475990",
   "metadata": {},
   "source": [
    "## Total Tractive Force\n",
    "\n",
    "Total Tractive Force is the sum of the three Forces calculated in the previous sections. This is the cumulative Horizontal Force applied by the Drive Wheels to the ground.\n",
    "\n",
    "$${F_{TT} = F_{RR} + F_{GR} + F_{A}}$$\n",
    "\n",
    "$F_{TT} =$ Total tractive Force $(N)$\\\n",
    "$F_{RR} =$ Force needed to overcome rolling resistance $(N)$\\\n",
    "$F_{GR} =$ Grade Resistance Force required to climb an incline $(N)$\\\n",
    "$F_{A} =$ Force required to accelerate to final velocity $(N)$"
   ]
  },
  {
   "cell_type": "code",
   "execution_count": 13,
   "id": "d40093e5-c81c-42ac-84ad-3bc9ed72bf24",
   "metadata": {},
   "outputs": [],
   "source": [
    "F_TT = sp.symbols(\"F_TT\", cls=sp.Function)"
   ]
  },
  {
   "cell_type": "code",
   "execution_count": 14,
   "id": "a402389d-1d7e-49e1-bf57-276999605ee9",
   "metadata": {},
   "outputs": [
    {
     "data": {
      "text/latex": [
       "$\\displaystyle \\frac{G_{VW} \\left(V_{max} + 9.81 t_{a} \\left(C_{rr} + \\sin{\\left(\\frac{\\pi \\alpha}{180} \\right)}\\right)\\right)}{t_{a}}$"
      ],
      "text/plain": [
       "G_VW*(V_max + 9.81*t_a*(C_rr + sin(pi*\\alpha/180)))/t_a"
      ]
     },
     "execution_count": 14,
     "metadata": {},
     "output_type": "execute_result"
    }
   ],
   "source": [
    "F_TT = F_RR + F_GR + F_A\n",
    "F_TT = F_TT.simplify()\n",
    "F_TT"
   ]
  },
  {
   "cell_type": "code",
   "execution_count": 15,
   "id": "a14a196b-ed56-43a5-8965-f7a102195ee4",
   "metadata": {},
   "outputs": [
    {
     "data": {
      "text/plain": [
       "<function _lambdifygenerated(G_VW, C_rr, Dummy_24, V_max, t_a)>"
      ]
     },
     "execution_count": 15,
     "metadata": {},
     "output_type": "execute_result"
    }
   ],
   "source": [
    "F_TT_f = sp.lambdify((G_VW, C_rr, a, V_max, t_a), F_TT)\n",
    "F_TT_f"
   ]
  },
  {
   "cell_type": "markdown",
   "id": "9a742657-ba33-4d4b-90bb-3ae9ad4b93fb",
   "metadata": {},
   "source": [
    "## Motor Torque At Each Wheel\n",
    "\n",
    "Wheel Motor Torque is the amount of Torque experienced at each Drive Wheel, based on wheel radius and accounting for internal drive mechanism losses.\n",
    "\n",
    "$${T_{WM} = F_{TT} \\cdot R_{W} \\cdot RF}$$\n",
    "\n",
    "$T_{WM} =$ Wheel Torque $(Nm)$\\\n",
    "$F_{TT} =$ Total Tractive Force $(N)$\\\n",
    "$R_{W} =$ Radius of wheel $(m)$\\\n",
    "$RF =$ Resistance Factor. Accounts for drive component frictional losses. Typically 10 - 15%."
   ]
  },
  {
   "cell_type": "code",
   "execution_count": 16,
   "id": "c9d40590-f425-456f-b20d-a2c1f547e30b",
   "metadata": {},
   "outputs": [],
   "source": [
    "T_WM = sp.symbols(\"T_WM\", cls=sp.Function)"
   ]
  },
  {
   "cell_type": "code",
   "execution_count": 17,
   "id": "43772e7f-f984-4629-ae17-7e2d9f2b7ec4",
   "metadata": {},
   "outputs": [
    {
     "data": {
      "text/latex": [
       "$\\displaystyle \\frac{G_{VW} RF R_{W} \\left(V_{max} + 9.81 t_{a} \\left(C_{rr} + \\sin{\\left(\\frac{\\pi \\alpha}{180} \\right)}\\right)\\right)}{t_{a}}$"
      ],
      "text/plain": [
       "G_VW*RF*R_W*(V_max + 9.81*t_a*(C_rr + sin(pi*\\alpha/180)))/t_a"
      ]
     },
     "execution_count": 17,
     "metadata": {},
     "output_type": "execute_result"
    }
   ],
   "source": [
    "T_WM = F_TT * R_W * RF\n",
    "T_WM"
   ]
  },
  {
   "cell_type": "code",
   "execution_count": 18,
   "id": "d0f5e461-77d9-425d-aff4-0be215105cae",
   "metadata": {},
   "outputs": [
    {
     "data": {
      "text/plain": [
       "<function _lambdifygenerated(G_VW, C_rr, Dummy_25, V_max, t_a, R_W, RF)>"
      ]
     },
     "execution_count": 18,
     "metadata": {},
     "output_type": "execute_result"
    }
   ],
   "source": [
    "T_WM_f = sp.lambdify((G_VW, C_rr, a, V_max, t_a, R_W, RF), T_WM)\n",
    "T_WM_f"
   ]
  },
  {
   "cell_type": "markdown",
   "id": "dbfa054f-63ff-47e0-8b3a-fe98539e553c",
   "metadata": {},
   "source": [
    "## Maximum Tractive Torque\n",
    "\n",
    "Verify vehicle can transmit required torque from Drive Wheels to the ground. This value depends on the number of Drive Wheels and hence the weight each Drive Wheel will experience.\n",
    "\n",
    "$${M_{TT} = W_{DW} \\cdot 9.81 \\cdot \\mu \\cdot R_{W}}$$\n",
    "\n",
    "$M_{TT} =$ Maximum Tractive Torque $(Nm)$\\\n",
    "$W_{DW} =$ Weight (normal load) on drive wheel $(kg)$\\\n",
    "$\\mu =$ Frictional coefficient between the wheel and the ground (~0.7 for hard rubber on dry wood)\\\n",
    "$R_{W} =$ Radius of wheel $(m)$"
   ]
  },
  {
   "cell_type": "code",
   "execution_count": 19,
   "id": "50f2befa-77b6-442c-be95-1f7a4ff1f755",
   "metadata": {},
   "outputs": [],
   "source": [
    "M_TT = sp.symbols(\"M_TT\", cls=sp.Function)"
   ]
  },
  {
   "cell_type": "code",
   "execution_count": 20,
   "id": "6d5f7ba3-a35d-4266-b580-80910aa4a389",
   "metadata": {},
   "outputs": [
    {
     "data": {
      "text/latex": [
       "$\\displaystyle 9.81 R_{W} W_{DW} \\mu$"
      ],
      "text/plain": [
       "9.81*R_W*W_DW*\\mu"
      ]
     },
     "execution_count": 20,
     "metadata": {},
     "output_type": "execute_result"
    }
   ],
   "source": [
    "M_TT = W_DW * 9.81 * u * R_W\n",
    "M_TT"
   ]
  },
  {
   "cell_type": "code",
   "execution_count": 21,
   "id": "a523b59e-4291-45c2-9bb7-be59b1b52b16",
   "metadata": {},
   "outputs": [
    {
     "data": {
      "text/plain": [
       "<function _lambdifygenerated(W_DW, R_W, Dummy_26)>"
      ]
     },
     "execution_count": 21,
     "metadata": {},
     "output_type": "execute_result"
    }
   ],
   "source": [
    "M_TT_f = sp.lambdify((W_DW, R_W, u), M_TT)\n",
    "M_TT_f"
   ]
  },
  {
   "cell_type": "markdown",
   "id": "20e65ab8-cf44-4fc3-b5ae-b4f169957835",
   "metadata": {},
   "source": [
    "## Sum of Maximum Tractive Torques\n",
    "\n",
    "Determine limit for when wheel slippage will to occur by summing the Maximum Tractive Torques $(SUM\\_{M_{TT}})$ for all Drive Wheels $(N_{DW})$.\n",
    "\n",
    "$${SUM\\_M_{TT} = M_{TT} \\cdot N_{DW}}$$\n",
    "\n",
    "$SUM\\_M_{TT} =$ Sum of Maximum Tractive Torques $(Nm)$\\\n",
    "$M_{TT} =$ Maximum Tractive Torque $(Nm)$\\\n",
    "$N_{DW} =$ Number of drive wheels$"
   ]
  },
  {
   "cell_type": "code",
   "execution_count": 22,
   "id": "d176477f-a25e-4b37-9468-ea5f312c7e09",
   "metadata": {},
   "outputs": [],
   "source": [
    "SUM_M_TT = sp.symbols(\"SUM_M_TT\", cls=sp.Function)"
   ]
  },
  {
   "cell_type": "code",
   "execution_count": 23,
   "id": "6644198b-024d-4c56-b1ac-f310a0c38dd4",
   "metadata": {},
   "outputs": [
    {
     "data": {
      "text/latex": [
       "$\\displaystyle 9.81 N_{DW} R_{W} W_{DW} \\mu$"
      ],
      "text/plain": [
       "9.81*N_DW*R_W*W_DW*\\mu"
      ]
     },
     "execution_count": 23,
     "metadata": {},
     "output_type": "execute_result"
    }
   ],
   "source": [
    "SUM_M_TT = M_TT * N_DW\n",
    "SUM_M_TT"
   ]
  },
  {
   "cell_type": "code",
   "execution_count": 24,
   "id": "45c1c6c2-9ebd-432a-a859-76b2d5c5c61a",
   "metadata": {},
   "outputs": [
    {
     "data": {
      "text/plain": [
       "<function _lambdifygenerated(W_DW, R_W, Dummy_27, N_DW)>"
      ]
     },
     "execution_count": 24,
     "metadata": {},
     "output_type": "execute_result"
    }
   ],
   "source": [
    "SUM_M_TT_f = sp.lambdify((W_DW, R_W, u, N_DW), SUM_M_TT)\n",
    "SUM_M_TT_f"
   ]
  },
  {
   "cell_type": "markdown",
   "id": "8bbf6e95-9b97-484e-a977-903643a891d7",
   "metadata": {},
   "source": [
    "## Define Parameters\n",
    "\n",
    "Set acceptable values for the Drive Wheel Torque Parameters"
   ]
  },
  {
   "cell_type": "code",
   "execution_count": 25,
   "id": "328a8c33-3948-4cb3-a9fd-4f11a727a306",
   "metadata": {},
   "outputs": [],
   "source": [
    "G_VW = 20 # Gross vehicle weight (kg)\n",
    "N_DW = 6 # Number of drive wheels\n",
    "W_DW = 10/3 # (20/6) Weight on each drive wheel (kg)\n",
    "R_W = 0.0508 # Radius of wheel (m)\n",
    "V_max = 0.4 # Desired top speed (m/s)\n",
    "t_a = 2 # Desired acceleration time  (s)\n",
    "a = 35 # Maximum incline angle (degrees)\n",
    "C_rr = 0.01 # Worst surface friction (dry wood)\n",
    "RF = 1.15 # Resistance Factor (10 - 15%)\n",
    "u = 0.7 # Frictional coefficient between the wheel and the ground (hard rubber on dry wood)"
   ]
  },
  {
   "cell_type": "markdown",
   "id": "34f97c01-9b52-4278-b658-9687ba62f84a",
   "metadata": {
    "tags": []
   },
   "source": [
    "<div class=\"none\">\n",
    "\\newpage\n",
    "</div>"
   ]
  },
  {
   "cell_type": "markdown",
   "id": "7e46211d-1f9d-4190-a850-81e1094ad293",
   "metadata": {},
   "source": [
    "## Perform Calculations"
   ]
  },
  {
   "cell_type": "markdown",
   "id": "ab947f2d-27b2-46c4-b92c-f8c1aaf3a659",
   "metadata": {},
   "source": [
    "Calculate $F_{RR}$ Force of rolling resistance $(N)$"
   ]
  },
  {
   "cell_type": "code",
   "execution_count": 26,
   "id": "60756669-a5d8-4994-935c-522901ff4194",
   "metadata": {},
   "outputs": [
    {
     "data": {
      "text/plain": [
       "1.9620000000000002"
      ]
     },
     "execution_count": 26,
     "metadata": {},
     "output_type": "execute_result"
    }
   ],
   "source": [
    "F_RR_f(G_VW, C_rr)"
   ]
  },
  {
   "cell_type": "markdown",
   "id": "3541d15d-04bb-4e19-a1f4-276dac178566",
   "metadata": {},
   "source": [
    "Calculate $F_{GR}$ Grade Resistance Force required to climb an incline $(N)$"
   ]
  },
  {
   "cell_type": "code",
   "execution_count": 27,
   "id": "1eed723e-cdb3-4911-8e89-b82c63a409ec",
   "metadata": {},
   "outputs": [
    {
     "data": {
      "text/plain": [
       "112.53569681207524"
      ]
     },
     "execution_count": 27,
     "metadata": {},
     "output_type": "execute_result"
    }
   ],
   "source": [
    "F_GR_f(G_VW, a)"
   ]
  },
  {
   "cell_type": "markdown",
   "id": "be5dcaad-05ea-495a-aba7-814db1e6648b",
   "metadata": {},
   "source": [
    "Calculate $F_{A}$ Force required to accelerate to final velocity $(N)$"
   ]
  },
  {
   "cell_type": "code",
   "execution_count": 28,
   "id": "515c0f48-46ec-45b8-9434-5b7e987784d7",
   "metadata": {},
   "outputs": [
    {
     "data": {
      "text/plain": [
       "4.0"
      ]
     },
     "execution_count": 28,
     "metadata": {},
     "output_type": "execute_result"
    }
   ],
   "source": [
    "F_A_f(G_VW, V_max, t_a)"
   ]
  },
  {
   "cell_type": "markdown",
   "id": "b49cce6c-64c3-4bb0-a971-2e577dd74c65",
   "metadata": {},
   "source": [
    "Calculate $F_{TT}$ Total Tractive Force $(N)$"
   ]
  },
  {
   "cell_type": "code",
   "execution_count": 29,
   "id": "3e65e16b-034b-4efc-8c50-6d0f03a5e2f7",
   "metadata": {},
   "outputs": [
    {
     "data": {
      "text/plain": [
       "118.49769681207525"
      ]
     },
     "execution_count": 29,
     "metadata": {},
     "output_type": "execute_result"
    }
   ],
   "source": [
    "F_TT_f(G_VW, C_rr, a, V_max, t_a)"
   ]
  },
  {
   "cell_type": "markdown",
   "id": "373dc6a2-6bde-4077-8991-7a3cf32f1eaa",
   "metadata": {},
   "source": [
    "Calculate $T_{WM}$ Wheel Torque $(Nm)$"
   ]
  },
  {
   "cell_type": "code",
   "execution_count": 30,
   "id": "7fc7cb55-9ff5-4a9b-a68d-4d23f2249273",
   "metadata": {},
   "outputs": [
    {
     "data": {
      "text/plain": [
       "6.922635447761435"
      ]
     },
     "execution_count": 30,
     "metadata": {},
     "output_type": "execute_result"
    }
   ],
   "source": [
    "T_WM_f(G_VW, C_rr, a, V_max, t_a, R_W, RF)"
   ]
  },
  {
   "cell_type": "markdown",
   "id": "5bf0a5e2-1d0e-4f1a-aa41-1f0fd23320fb",
   "metadata": {},
   "source": [
    "Calculate $M_{TT}$ Maximum Tractive Torque $(Nm)$"
   ]
  },
  {
   "cell_type": "code",
   "execution_count": 31,
   "id": "7e07397e-fd77-4c9b-88ce-d6e12be35d52",
   "metadata": {},
   "outputs": [
    {
     "data": {
      "text/plain": [
       "1.162812"
      ]
     },
     "execution_count": 31,
     "metadata": {},
     "output_type": "execute_result"
    }
   ],
   "source": [
    "M_TT_f(W_DW, R_W, u)"
   ]
  },
  {
   "cell_type": "markdown",
   "id": "95bcd7aa-ba1d-44a7-a3f4-630ad64965dc",
   "metadata": {},
   "source": [
    "Calculate $SUM\\_M_{TT}$ Sum of Maximum Tractive Torques $(Nm)$"
   ]
  },
  {
   "cell_type": "code",
   "execution_count": 32,
   "id": "85400cc6-e8f5-4b9a-80cf-06a86a44fe06",
   "metadata": {},
   "outputs": [
    {
     "data": {
      "text/plain": [
       "6.976872"
      ]
     },
     "execution_count": 32,
     "metadata": {},
     "output_type": "execute_result"
    }
   ],
   "source": [
    "SUM_M_TT_f(W_DW, R_W, u, N_DW)"
   ]
  },
  {
   "cell_type": "markdown",
   "id": "716c31d4-6709-4706-8575-a9733477c628",
   "metadata": {},
   "source": [
    "<div class=\"none\">\n",
    "\\newpage\n",
    "</div>"
   ]
  },
  {
   "cell_type": "markdown",
   "id": "4d9d0795-5c47-4914-a43f-cbf8b6f457e2",
   "metadata": {},
   "source": [
    "## Parameters Check to Avoid Slippage\n",
    "\n",
    "$$T_{WM} \\leq SUM\\_M_{TT}$$\n",
    "\n",
    "The Wheel Motor Torque $(T_{WM})$ must be less than or equal to the sum of the Maximum Tractive Torques $(SUM\\_M_{TT})$ to avoid slippage of the Drive Wheels."
   ]
  },
  {
   "cell_type": "code",
   "execution_count": 33,
   "id": "3d6bc335-a6ce-4787-a6d1-ec1a98bfed9c",
   "metadata": {},
   "outputs": [
    {
     "data": {
      "text/plain": [
       "6.922635447761435"
      ]
     },
     "execution_count": 33,
     "metadata": {},
     "output_type": "execute_result"
    }
   ],
   "source": [
    "wheel_motor_torque = T_WM_f(G_VW, C_rr, a, V_max, t_a, R_W, RF)\n",
    "wheel_motor_torque"
   ]
  },
  {
   "cell_type": "code",
   "execution_count": 34,
   "id": "42c87cce-7008-4acd-b46b-ea9ed2c4af43",
   "metadata": {},
   "outputs": [
    {
     "data": {
      "text/plain": [
       "6.976872"
      ]
     },
     "execution_count": 34,
     "metadata": {},
     "output_type": "execute_result"
    }
   ],
   "source": [
    "sum_max_tractive_torques = SUM_M_TT_f(W_DW, R_W, u, N_DW)\n",
    "sum_max_tractive_torques"
   ]
  },
  {
   "cell_type": "code",
   "execution_count": 35,
   "id": "f82aef71-7b1d-4d3d-a585-73773d9039a4",
   "metadata": {},
   "outputs": [
    {
     "name": "stdout",
     "output_type": "stream",
     "text": [
      "Motor Torque Parameters are viable\n"
     ]
    }
   ],
   "source": [
    "if (wheel_motor_torque <= sum_max_tractive_torques):\n",
    "    print(\"Motor Torque Parameters are viable\")\n",
    "else:\n",
    "    print(\"Motor Torque Parameters are NOT viable and slippage will occur.\")"
   ]
  },
  {
   "cell_type": "markdown",
   "id": "0ac49cfb-2ff0-47cb-809f-ebb2a76008c4",
   "metadata": {},
   "source": [
    "## Graphing Parameter Variations\n",
    "### Param 1: $G_{VW}$ Gross vehicle weight 10 - 25 kg"
   ]
  },
  {
   "cell_type": "code",
   "execution_count": 36,
   "id": "214ee9fb-8c6c-4651-abb7-f84da50a429e",
   "metadata": {},
   "outputs": [],
   "source": [
    "G_VW_x_vals = np.linspace(10, 25, 100)\n",
    "G_VW_y_vals = T_WM_f(G_VW_x_vals, C_rr, a, V_max, t_a, R_W, RF)"
   ]
  },
  {
   "cell_type": "code",
   "execution_count": 37,
   "id": "ae8ffa9d-c938-46cd-9e65-8c63d73445ff",
   "metadata": {},
   "outputs": [],
   "source": [
    "# create data points for when slippage will occur\n",
    "SUM_M_TT_x_vals = np.linspace(0, 50, 10)\n",
    "SUM_M_TT_y_vals = np.full((len(SUM_M_TT_x_vals)), SUM_M_TT_f(W_DW, R_W, u, N_DW))"
   ]
  },
  {
   "cell_type": "markdown",
   "id": "1b9e46b1-d514-4a96-b422-0d5b8341d2d4",
   "metadata": {
    "tags": []
   },
   "source": [
    "### Param 2: $\\alpha$ Maximum incline angle 10 - 50 degrees"
   ]
  },
  {
   "cell_type": "code",
   "execution_count": 38,
   "id": "ca8272b2-b4e7-4830-9b1a-22935e20ebdb",
   "metadata": {},
   "outputs": [],
   "source": [
    "a_x_vals = np.linspace(10, 50, 100)\n",
    "a_y_vals = T_WM_f(G_VW, C_rr, a_x_vals, V_max, t_a, R_W, RF)"
   ]
  },
  {
   "cell_type": "markdown",
   "id": "108b44ea-ac82-4dd2-9fb3-f56e49cb36ae",
   "metadata": {},
   "source": [
    "### Param 3: $V_{max}$ Desired top speed 0.1 - 1.0 m/s"
   ]
  },
  {
   "cell_type": "code",
   "execution_count": 39,
   "id": "aeeb3862-e3f2-4c4e-a234-1558f73e7e5c",
   "metadata": {},
   "outputs": [],
   "source": [
    "V_max_x_vals = np.linspace(0.1, 1, 100)\n",
    "V_max_y_vals = T_WM_f(G_VW, C_rr, a, V_max_x_vals, t_a, R_W, RF)"
   ]
  },
  {
   "cell_type": "markdown",
   "id": "2c4fcddc-30a2-46a4-b8a0-4c6e07603255",
   "metadata": {},
   "source": [
    "### Generate Graphs"
   ]
  },
  {
   "cell_type": "code",
   "execution_count": 42,
   "id": "cbfbc00c-3a74-4974-903f-cdf652674b8c",
   "metadata": {},
   "outputs": [
    {
     "data": {
      "image/png": "[encoded data removed]",
      "text/plain": [
       "<Figure size 1080x252 with 3 Axes>"
      ]
     },
     "metadata": {
      "needs_background": "light"
     },
     "output_type": "display_data"
    }
   ],
   "source": [
    "fig, (ax1, ax2, ax3) = pl.subplots(1, 3, gridspec_kw={\"wspace\":0.25,\"width_ratios\": [1,1,1]}, figsize=(15,3.5))\n",
    "\n",
    "# create gross vehicle weight plot\n",
    "ax1.plot(G_VW_x_vals, G_VW_y_vals, label=r\"$G_{VW}~(kg)$\")\n",
    "ax1.plot(SUM_M_TT_x_vals, SUM_M_TT_y_vals, label=r\"$SUM\\_M_{TT}~(N)$\")\n",
    "ax1.set_title(r\"$G_{VW}~(kg)~~~vs~~~T_{WM}~(N)$\", fontsize=15)\n",
    "ax1.set_xlim(10, 25)\n",
    "ax1.xaxis.set_major_formatter(FormatStrFormatter(\"%.0f\"))\n",
    "ax1.set_xlabel(r\"$G_{VW}~(kg)$\", fontsize=15)\n",
    "ax1.set_ylabel(r\"$T_{WM}~(N)$\", fontsize=15)\n",
    "ax1.legend(bbox_to_anchor=(0.98, 0.30), fontsize=10)\n",
    "\n",
    "# create maximum incline angle plot\n",
    "ax2.plot(a_x_vals, a_y_vals, label=r\"$\\alpha~(degrees)$\")\n",
    "ax2.plot(SUM_M_TT_x_vals, SUM_M_TT_y_vals, label=r\"$SUM\\_M_{TT}~(N)$\")\n",
    "ax2.set_title(r\"$\\alpha~(degrees)~~~vs~~~T_{WM}~(N)$\", fontsize=15)\n",
    "ax2.set_xlim(10, 50)\n",
    "ax2.xaxis.set_major_formatter(FormatStrFormatter(\"%.0f\"))\n",
    "ax2.set_xlabel(r\"$\\alpha~(degrees)$\", fontsize=15)\n",
    "ax2.set_ylabel(r\"$T_{WM}~(N)$\", fontsize=15)\n",
    "ax2.legend(bbox_to_anchor=(0.98, 0.30), fontsize=10)\n",
    "\n",
    "# create desired top speed plot\n",
    "ax3.plot(V_max_x_vals, V_max_y_vals, label=r\"$V_{max}~(m/s)$\")\n",
    "ax3.plot(SUM_M_TT_x_vals, SUM_M_TT_y_vals, label=r\"$SUM\\_M_{TT}~(N)$\")\n",
    "ax3.set_title(r\"$V_{max}~~~vs~~~T_{WM}~(N)$\", fontsize=15)\n",
    "ax3.set_xlim(0.1, 1)\n",
    "ax3.xaxis.set_major_formatter(FormatStrFormatter(\"%.1f\"))\n",
    "ax3.set_xlabel(r\"$V_{max}~(m/s)$\", fontsize=15)\n",
    "ax3.set_ylabel(r\"$T_{WM}~(N)$\", fontsize=15)\n",
    "ax3.legend(bbox_to_anchor=(0.98, 0.30), fontsize=10)\n",
    "\n",
    "pl.show()"
   ]
  },
  {
   "cell_type": "markdown",
   "id": "b8808b87-bc78-4cd3-bcdd-e180cc457222",
   "metadata": {},
   "source": [
    "Graph of robot weight (kg), angle of incline (degrees), robot top speed (m/s) vs Wheel Motor Torque (N). In each case, once the Wheel Motor Torque (N) crosses the sum of the Maximum Tractive Torques (N), represented by the horizontal line, wheel slippage will occur.\n",
    "\n",
    "- Graph 1: robot weight varied (10 – 25 kg), angle of incline fixed (35 degrees), robot top speed fixed (0.4 m/s)\n",
    "- Graph 2: angle of incline varied (10 – 50 degrees), robot weight fixed (20 kg), robot top speed fixed (0.4 m/s)\n",
    "- Graph 3: robot top speed varied (0.1 – 1.0 m/s), robot weight fixed (20kg), angle of incline fixed (35 degrees)"
   ]
  }
 ],
 "metadata": {
  "kernelspec": {
   "display_name": "Python 3",
   "language": "python",
   "name": "python3"
  },
  "language_info": {
   "codemirror_mode": {
    "name": "ipython",
    "version": 3
   },
   "file_extension": ".py",
   "mimetype": "text/x-python",
   "name": "python",
   "nbconvert_exporter": "python",
   "pygments_lexer": "ipython3",
   "version": "3.8.8"
  },
  "toc-autonumbering": true
 },
 "nbformat": 4,
 "nbformat_minor": 5
}
